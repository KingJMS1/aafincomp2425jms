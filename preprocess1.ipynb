{
 "cells": [
  {
   "cell_type": "code",
   "execution_count": 1,
   "metadata": {},
   "outputs": [],
   "source": [
    "import numpy as np \n",
    "import matplotlib.pyplot as plt\n",
    "import pandas as pd\n",
    "from json import dump\n",
    "import gc"
   ]
  },
  {
   "cell_type": "code",
   "execution_count": 2,
   "metadata": {},
   "outputs": [
    {
     "name": "stderr",
     "output_type": "stream",
     "text": [
      "/tmp/ipykernel_135914/932884061.py:1: DtypeWarning: Columns (6,23,24,25,27,28,29,30,31,36,41,43,58,59,60,61) have mixed types. Specify dtype option on import or set low_memory=False.\n",
      "  data = pd.read_csv(\"data/train.csv\")\n"
     ]
    }
   ],
   "source": [
    "data = pd.read_csv(\"data/train.csv\")\n",
    "data = data.drop([\"Unnamed: 0\"], axis=1)"
   ]
  },
  {
   "cell_type": "code",
   "execution_count": 3,
   "metadata": {},
   "outputs": [
    {
     "data": {
      "text/html": [
       "<div>\n",
       "<style scoped>\n",
       "    .dataframe tbody tr th:only-of-type {\n",
       "        vertical-align: middle;\n",
       "    }\n",
       "\n",
       "    .dataframe tbody tr th {\n",
       "        vertical-align: top;\n",
       "    }\n",
       "\n",
       "    .dataframe thead th {\n",
       "        text-align: right;\n",
       "    }\n",
       "</style>\n",
       "<table border=\"1\" class=\"dataframe\">\n",
       "  <thead>\n",
       "    <tr style=\"text-align: right;\">\n",
       "      <th></th>\n",
       "      <th>activity_year</th>\n",
       "      <th>lei</th>\n",
       "      <th>derived_msa_md</th>\n",
       "      <th>state_code</th>\n",
       "      <th>county_code</th>\n",
       "      <th>census_tract</th>\n",
       "      <th>conforming_loan_limit</th>\n",
       "      <th>derived_loan_product_type</th>\n",
       "      <th>derived_dwelling_category</th>\n",
       "      <th>derived_ethnicity</th>\n",
       "      <th>...</th>\n",
       "      <th>initially_payable_to_institution</th>\n",
       "      <th>aus_1</th>\n",
       "      <th>denial_reason_1</th>\n",
       "      <th>tract_population</th>\n",
       "      <th>tract_minority_population_percent</th>\n",
       "      <th>ffiec_msa_md_median_family_income</th>\n",
       "      <th>tract_to_msa_income_percentage</th>\n",
       "      <th>tract_owner_occupied_units</th>\n",
       "      <th>tract_one_to_four_family_homes</th>\n",
       "      <th>tract_median_age_of_housing_units</th>\n",
       "    </tr>\n",
       "  </thead>\n",
       "  <tbody>\n",
       "    <tr>\n",
       "      <th>0</th>\n",
       "      <td>2020</td>\n",
       "      <td>549300RBX56T2MW5HO19</td>\n",
       "      <td>11244</td>\n",
       "      <td>CA</td>\n",
       "      <td>6059.0</td>\n",
       "      <td>6059042334.0</td>\n",
       "      <td>C</td>\n",
       "      <td>Conventional:First Lien</td>\n",
       "      <td>Single Family (1-4 Units):Site-Built</td>\n",
       "      <td>Not Hispanic or Latino</td>\n",
       "      <td>...</td>\n",
       "      <td>1</td>\n",
       "      <td>1</td>\n",
       "      <td>10</td>\n",
       "      <td>5173</td>\n",
       "      <td>36.61</td>\n",
       "      <td>103000</td>\n",
       "      <td>111.29</td>\n",
       "      <td>1440</td>\n",
       "      <td>1707</td>\n",
       "      <td>31</td>\n",
       "    </tr>\n",
       "    <tr>\n",
       "      <th>1</th>\n",
       "      <td>2020</td>\n",
       "      <td>549300RBX56T2MW5HO19</td>\n",
       "      <td>23224</td>\n",
       "      <td>MD</td>\n",
       "      <td>24031.0</td>\n",
       "      <td>24031700706.0</td>\n",
       "      <td>C</td>\n",
       "      <td>Conventional:First Lien</td>\n",
       "      <td>Single Family (1-4 Units):Site-Built</td>\n",
       "      <td>Ethnicity Not Available</td>\n",
       "      <td>...</td>\n",
       "      <td>1</td>\n",
       "      <td>1</td>\n",
       "      <td>10</td>\n",
       "      <td>4154</td>\n",
       "      <td>70.58</td>\n",
       "      <td>124400</td>\n",
       "      <td>70.37</td>\n",
       "      <td>623</td>\n",
       "      <td>719</td>\n",
       "      <td>36</td>\n",
       "    </tr>\n",
       "    <tr>\n",
       "      <th>2</th>\n",
       "      <td>2020</td>\n",
       "      <td>549300RBX56T2MW5HO19</td>\n",
       "      <td>28140</td>\n",
       "      <td>KS</td>\n",
       "      <td>20091.0</td>\n",
       "      <td>20091053410.0</td>\n",
       "      <td>C</td>\n",
       "      <td>Conventional:First Lien</td>\n",
       "      <td>Single Family (1-4 Units):Site-Built</td>\n",
       "      <td>Ethnicity Not Available</td>\n",
       "      <td>...</td>\n",
       "      <td>1</td>\n",
       "      <td>1</td>\n",
       "      <td>10</td>\n",
       "      <td>10809</td>\n",
       "      <td>17.24</td>\n",
       "      <td>85900</td>\n",
       "      <td>234.73</td>\n",
       "      <td>3330</td>\n",
       "      <td>3625</td>\n",
       "      <td>12</td>\n",
       "    </tr>\n",
       "    <tr>\n",
       "      <th>3</th>\n",
       "      <td>2020</td>\n",
       "      <td>549300RBX56T2MW5HO19</td>\n",
       "      <td>99999</td>\n",
       "      <td>CA</td>\n",
       "      <td>6057.0</td>\n",
       "      <td>6057001206.0</td>\n",
       "      <td>C</td>\n",
       "      <td>Conventional:First Lien</td>\n",
       "      <td>Single Family (1-4 Units):Site-Built</td>\n",
       "      <td>Not Hispanic or Latino</td>\n",
       "      <td>...</td>\n",
       "      <td>1</td>\n",
       "      <td>1</td>\n",
       "      <td>10</td>\n",
       "      <td>5875</td>\n",
       "      <td>44.32</td>\n",
       "      <td>70700</td>\n",
       "      <td>146.02</td>\n",
       "      <td>1223</td>\n",
       "      <td>2824</td>\n",
       "      <td>29</td>\n",
       "    </tr>\n",
       "    <tr>\n",
       "      <th>4</th>\n",
       "      <td>2020</td>\n",
       "      <td>549300RBX56T2MW5HO19</td>\n",
       "      <td>21660</td>\n",
       "      <td>OR</td>\n",
       "      <td>41039.0</td>\n",
       "      <td>41039005200.0</td>\n",
       "      <td>C</td>\n",
       "      <td>Conventional:First Lien</td>\n",
       "      <td>Single Family (1-4 Units):Site-Built</td>\n",
       "      <td>Not Hispanic or Latino</td>\n",
       "      <td>...</td>\n",
       "      <td>1</td>\n",
       "      <td>1</td>\n",
       "      <td>10</td>\n",
       "      <td>2011</td>\n",
       "      <td>14.12</td>\n",
       "      <td>72200</td>\n",
       "      <td>146.86</td>\n",
       "      <td>607</td>\n",
       "      <td>875</td>\n",
       "      <td>48</td>\n",
       "    </tr>\n",
       "  </tbody>\n",
       "</table>\n",
       "<p>5 rows × 72 columns</p>\n",
       "</div>"
      ],
      "text/plain": [
       "   activity_year                   lei  derived_msa_md state_code  \\\n",
       "0           2020  549300RBX56T2MW5HO19           11244         CA   \n",
       "1           2020  549300RBX56T2MW5HO19           23224         MD   \n",
       "2           2020  549300RBX56T2MW5HO19           28140         KS   \n",
       "3           2020  549300RBX56T2MW5HO19           99999         CA   \n",
       "4           2020  549300RBX56T2MW5HO19           21660         OR   \n",
       "\n",
       "   county_code   census_tract conforming_loan_limit derived_loan_product_type  \\\n",
       "0       6059.0   6059042334.0                     C   Conventional:First Lien   \n",
       "1      24031.0  24031700706.0                     C   Conventional:First Lien   \n",
       "2      20091.0  20091053410.0                     C   Conventional:First Lien   \n",
       "3       6057.0   6057001206.0                     C   Conventional:First Lien   \n",
       "4      41039.0  41039005200.0                     C   Conventional:First Lien   \n",
       "\n",
       "              derived_dwelling_category        derived_ethnicity  ...  \\\n",
       "0  Single Family (1-4 Units):Site-Built   Not Hispanic or Latino  ...   \n",
       "1  Single Family (1-4 Units):Site-Built  Ethnicity Not Available  ...   \n",
       "2  Single Family (1-4 Units):Site-Built  Ethnicity Not Available  ...   \n",
       "3  Single Family (1-4 Units):Site-Built   Not Hispanic or Latino  ...   \n",
       "4  Single Family (1-4 Units):Site-Built   Not Hispanic or Latino  ...   \n",
       "\n",
       "  initially_payable_to_institution aus_1  denial_reason_1  tract_population  \\\n",
       "0                                1     1               10              5173   \n",
       "1                                1     1               10              4154   \n",
       "2                                1     1               10             10809   \n",
       "3                                1     1               10              5875   \n",
       "4                                1     1               10              2011   \n",
       "\n",
       "   tract_minority_population_percent  ffiec_msa_md_median_family_income  \\\n",
       "0                              36.61                             103000   \n",
       "1                              70.58                             124400   \n",
       "2                              17.24                              85900   \n",
       "3                              44.32                              70700   \n",
       "4                              14.12                              72200   \n",
       "\n",
       "   tract_to_msa_income_percentage  tract_owner_occupied_units  \\\n",
       "0                          111.29                        1440   \n",
       "1                           70.37                         623   \n",
       "2                          234.73                        3330   \n",
       "3                          146.02                        1223   \n",
       "4                          146.86                         607   \n",
       "\n",
       "   tract_one_to_four_family_homes  tract_median_age_of_housing_units  \n",
       "0                            1707                                 31  \n",
       "1                             719                                 36  \n",
       "2                            3625                                 12  \n",
       "3                            2824                                 29  \n",
       "4                             875                                 48  \n",
       "\n",
       "[5 rows x 72 columns]"
      ]
     },
     "execution_count": 3,
     "metadata": {},
     "output_type": "execute_result"
    }
   ],
   "source": [
    "data.head()"
   ]
  },
  {
   "cell_type": "code",
   "execution_count": 4,
   "metadata": {},
   "outputs": [
    {
     "data": {
      "text/plain": [
       "4517"
      ]
     },
     "execution_count": 4,
     "metadata": {},
     "output_type": "execute_result"
    }
   ],
   "source": [
    "len(data[\"lei\"].unique())"
   ]
  },
  {
   "cell_type": "code",
   "execution_count": 5,
   "metadata": {},
   "outputs": [],
   "source": [
    "leimap = {x: i for i, x in enumerate(data[\"lei\"].unique())}\n",
    "data['lei'] = data[\"lei\"].apply(lambda x: leimap[x])\n",
    "leifreqs = {leimap[x]: (data[\"lei\"] == leimap[x]).sum() for x in leimap}"
   ]
  },
  {
   "cell_type": "code",
   "execution_count": 6,
   "metadata": {},
   "outputs": [],
   "source": [
    "data[\"leifreq\"] = data[\"lei\"].apply(lambda x: leifreqs[x])"
   ]
  },
  {
   "cell_type": "code",
   "execution_count": 7,
   "metadata": {},
   "outputs": [],
   "source": [
    "with open(\"data/leimap.json\", 'w') as file:\n",
    "    dump(leimap, file)"
   ]
  },
  {
   "cell_type": "code",
   "execution_count": 8,
   "metadata": {},
   "outputs": [
    {
     "data": {
      "text/plain": [
       "array(['Conventional:First Lien', 'VA:First Lien', 'FHA:First Lien',\n",
       "       'Conventional:Subordinate Lien', 'FSA/RHS:First Lien',\n",
       "       'FHA:Subordinate Lien', 'FSA/RHS:Subordinate Lien',\n",
       "       'VA:Subordinate Lien'], dtype=object)"
      ]
     },
     "execution_count": 8,
     "metadata": {},
     "output_type": "execute_result"
    }
   ],
   "source": [
    "data[\"derived_loan_product_type\"].unique()"
   ]
  },
  {
   "cell_type": "code",
   "execution_count": 9,
   "metadata": {},
   "outputs": [
    {
     "data": {
      "text/plain": [
       "array(['Single Family (1-4 Units):Site-Built',\n",
       "       'Single Family (1-4 Units):Manufactured', 'Multifamily:Site-Built',\n",
       "       'Multifamily:Manufactured'], dtype=object)"
      ]
     },
     "execution_count": 9,
     "metadata": {},
     "output_type": "execute_result"
    }
   ],
   "source": [
    "data[\"derived_dwelling_category\"].unique()"
   ]
  },
  {
   "cell_type": "code",
   "execution_count": 10,
   "metadata": {},
   "outputs": [
    {
     "data": {
      "text/plain": [
       "Index(['activity_year', 'lei', 'derived_msa_md', 'state_code', 'county_code',\n",
       "       'census_tract', 'conforming_loan_limit', 'derived_loan_product_type',\n",
       "       'derived_dwelling_category', 'derived_ethnicity', 'derived_race',\n",
       "       'derived_sex', 'action_taken', 'purchaser_type', 'preapproval',\n",
       "       'loan_type', 'loan_purpose', 'lien_status', 'reverse_mortgage',\n",
       "       'open_end_line_of_credit', 'business_or_commercial_purpose',\n",
       "       'loan_amount', 'combined_loan_to_value_ratio', 'interest_rate',\n",
       "       'rate_spread', 'hoepa_status', 'total_loan_costs',\n",
       "       'origination_charges', 'discount_points', 'lender_credits', 'loan_term',\n",
       "       'negative_amortization', 'interest_only_payment', 'balloon_payment',\n",
       "       'other_nonamortizing_features', 'property_value', 'construction_method',\n",
       "       'occupancy_type', 'manufactured_home_secured_property_type',\n",
       "       'manufactured_home_land_property_interest', 'total_units', 'income',\n",
       "       'debt_to_income_ratio', 'applicant_credit_score_type',\n",
       "       'co_applicant_credit_score_type', 'applicant_ethnicity_1',\n",
       "       'co_applicant_ethnicity_1', 'applicant_ethnicity_observed',\n",
       "       'co_applicant_ethnicity_observed', 'applicant_race_1',\n",
       "       'co_applicant_race_1', 'applicant_race_observed',\n",
       "       'co_applicant_race_observed', 'applicant_sex', 'co_applicant_sex',\n",
       "       'applicant_sex_observed', 'co_applicant_sex_observed', 'applicant_age',\n",
       "       'co_applicant_age', 'applicant_age_above_62',\n",
       "       'co_applicant_age_above_62', 'submission_of_application',\n",
       "       'initially_payable_to_institution', 'aus_1', 'denial_reason_1',\n",
       "       'tract_population', 'tract_minority_population_percent',\n",
       "       'ffiec_msa_md_median_family_income', 'tract_to_msa_income_percentage',\n",
       "       'tract_owner_occupied_units', 'tract_one_to_four_family_homes',\n",
       "       'tract_median_age_of_housing_units', 'leifreq'],\n",
       "      dtype='object')"
      ]
     },
     "execution_count": 10,
     "metadata": {},
     "output_type": "execute_result"
    }
   ],
   "source": [
    "data.keys()"
   ]
  },
  {
   "cell_type": "code",
   "execution_count": 11,
   "metadata": {},
   "outputs": [],
   "source": [
    "todrop = ['co_applicant_credit_score_type', 'applicant_ethnicity_1',\n",
    "       'co_applicant_ethnicity_1', 'applicant_ethnicity_observed',\n",
    "       'co_applicant_ethnicity_observed', 'applicant_race_1',\n",
    "       'co_applicant_race_1', 'applicant_race_observed',\n",
    "       'co_applicant_race_observed', 'applicant_sex', 'co_applicant_sex',\n",
    "       'applicant_sex_observed', 'co_applicant_sex_observed', 'applicant_age_above_62',\n",
    "       'co_applicant_age_above_62']"
   ]
  },
  {
   "cell_type": "code",
   "execution_count": 12,
   "metadata": {},
   "outputs": [],
   "source": [
    "data = data.drop(todrop, axis=1)"
   ]
  },
  {
   "cell_type": "code",
   "execution_count": 13,
   "metadata": {},
   "outputs": [
    {
     "data": {
      "text/plain": [
       "Index(['activity_year', 'lei', 'derived_msa_md', 'state_code', 'county_code',\n",
       "       'census_tract', 'conforming_loan_limit', 'derived_loan_product_type',\n",
       "       'derived_dwelling_category', 'derived_ethnicity', 'derived_race',\n",
       "       'derived_sex', 'action_taken', 'purchaser_type', 'preapproval',\n",
       "       'loan_type', 'loan_purpose', 'lien_status', 'reverse_mortgage',\n",
       "       'open_end_line_of_credit', 'business_or_commercial_purpose',\n",
       "       'loan_amount', 'combined_loan_to_value_ratio', 'interest_rate',\n",
       "       'rate_spread', 'hoepa_status', 'total_loan_costs',\n",
       "       'origination_charges', 'discount_points', 'lender_credits', 'loan_term',\n",
       "       'negative_amortization', 'interest_only_payment', 'balloon_payment',\n",
       "       'other_nonamortizing_features', 'property_value', 'construction_method',\n",
       "       'occupancy_type', 'manufactured_home_secured_property_type',\n",
       "       'manufactured_home_land_property_interest', 'total_units', 'income',\n",
       "       'debt_to_income_ratio', 'applicant_credit_score_type', 'applicant_age',\n",
       "       'co_applicant_age', 'submission_of_application',\n",
       "       'initially_payable_to_institution', 'aus_1', 'denial_reason_1',\n",
       "       'tract_population', 'tract_minority_population_percent',\n",
       "       'ffiec_msa_md_median_family_income', 'tract_to_msa_income_percentage',\n",
       "       'tract_owner_occupied_units', 'tract_one_to_four_family_homes',\n",
       "       'tract_median_age_of_housing_units', 'leifreq'],\n",
       "      dtype='object')"
      ]
     },
     "execution_count": 13,
     "metadata": {},
     "output_type": "execute_result"
    }
   ],
   "source": [
    "data.keys()"
   ]
  },
  {
   "cell_type": "code",
   "execution_count": 14,
   "metadata": {},
   "outputs": [],
   "source": [
    "tofix = [\"total_units\", \"applicant_age\", \"debt_to_income_ratio\", \"lender_credits\"]"
   ]
  },
  {
   "cell_type": "code",
   "execution_count": 15,
   "metadata": {},
   "outputs": [
    {
     "name": "stderr",
     "output_type": "stream",
     "text": [
      "/tmp/ipykernel_135914/953710668.py:3: FutureWarning: Downcasting behavior in `replace` is deprecated and will be removed in a future version. To retain the old behavior, explicitly call `result.infer_objects(copy=False)`. To opt-in to the future behavior, set `pd.set_option('future.no_silent_downcasting', True)`\n",
      "  data[\"applicant_age\"] = data[\"applicant_age\"].replace(\"<25\", 1).replace(\"25-34\", 2).replace(\"35-44\", 3).replace(\"45-54\", 4).replace(\"55-64\", 5).replace(\"65-74\", 6).replace(\">74\", 7).replace(\"8888\", np.nan).replace(\"9999\", np.nan).replace(8888, np.nan).astype(\"float64\")\n"
     ]
    }
   ],
   "source": [
    "data[\"lender_credits\"] = data[\"lender_credits\"].fillna(0).replace(\"Exempt\", 0).astype(\"float64\")\n",
    "data[\"total_units\"] = data[\"total_units\"].replace(\"5-24\", 12).replace(\">149\", 200).replace(\"25-49\", 33).replace(\"50-99\", 75).replace(\"100-149\", 125).astype(\"float64\")\n",
    "data[\"applicant_age\"] = data[\"applicant_age\"].replace(\"<25\", 1).replace(\"25-34\", 2).replace(\"35-44\", 3).replace(\"45-54\", 4).replace(\"55-64\", 5).replace(\"65-74\", 6).replace(\">74\", 7).replace(\"8888\", np.nan).replace(\"9999\", np.nan).replace(8888, np.nan).astype(\"float64\")"
   ]
  },
  {
   "cell_type": "code",
   "execution_count": 16,
   "metadata": {},
   "outputs": [],
   "source": [
    "data[\"na_age\"] = data[\"applicant_age\"].isna()\n",
    "data[\"applicant_age\"] = data[\"applicant_age\"].fillna(data[\"applicant_age\"][~data[\"applicant_age\"].isna()].mean())"
   ]
  },
  {
   "cell_type": "code",
   "execution_count": 17,
   "metadata": {},
   "outputs": [
    {
     "data": {
      "text/plain": [
       "activity_year                                     0\n",
       "lei                                               0\n",
       "derived_msa_md                                    0\n",
       "state_code                                    57470\n",
       "county_code                                   90468\n",
       "census_tract                                 109016\n",
       "conforming_loan_limit                         20098\n",
       "derived_loan_product_type                         0\n",
       "derived_dwelling_category                         0\n",
       "derived_ethnicity                                 0\n",
       "derived_race                                      0\n",
       "derived_sex                                       0\n",
       "action_taken                                      0\n",
       "purchaser_type                                    0\n",
       "preapproval                                       0\n",
       "loan_type                                         0\n",
       "loan_purpose                                      0\n",
       "lien_status                                       0\n",
       "reverse_mortgage                                  0\n",
       "open_end_line_of_credit                           0\n",
       "business_or_commercial_purpose                    0\n",
       "loan_amount                                       0\n",
       "combined_loan_to_value_ratio                2656824\n",
       "interest_rate                               2249199\n",
       "rate_spread                                 3318115\n",
       "hoepa_status                                      0\n",
       "total_loan_costs                            3047094\n",
       "origination_charges                         3017068\n",
       "discount_points                             5935270\n",
       "lender_credits                                    0\n",
       "loan_term                                     68030\n",
       "negative_amortization                             0\n",
       "interest_only_payment                             0\n",
       "balloon_payment                                   0\n",
       "other_nonamortizing_features                      0\n",
       "property_value                              1708096\n",
       "construction_method                               0\n",
       "occupancy_type                                    0\n",
       "manufactured_home_secured_property_type           0\n",
       "manufactured_home_land_property_interest          0\n",
       "total_units                                       0\n",
       "income                                      1142147\n",
       "debt_to_income_ratio                        2742008\n",
       "applicant_credit_score_type                       0\n",
       "applicant_age                                     0\n",
       "co_applicant_age                                  0\n",
       "submission_of_application                         0\n",
       "initially_payable_to_institution                  0\n",
       "aus_1                                             0\n",
       "denial_reason_1                                   0\n",
       "tract_population                                  0\n",
       "tract_minority_population_percent                 0\n",
       "ffiec_msa_md_median_family_income                 0\n",
       "tract_to_msa_income_percentage                    0\n",
       "tract_owner_occupied_units                        0\n",
       "tract_one_to_four_family_homes                    0\n",
       "tract_median_age_of_housing_units                 0\n",
       "leifreq                                           0\n",
       "na_age                                            0\n",
       "dtype: int64"
      ]
     },
     "execution_count": 17,
     "metadata": {},
     "output_type": "execute_result"
    }
   ],
   "source": [
    "data.isna().sum()"
   ]
  },
  {
   "cell_type": "code",
   "execution_count": 18,
   "metadata": {},
   "outputs": [
    {
     "data": {
      "text/plain": [
       "0"
      ]
     },
     "execution_count": 18,
     "metadata": {},
     "output_type": "execute_result"
    }
   ],
   "source": [
    "toDummy = [\"derived_loan_product_type\", \"conforming_loan_limit\", \"derived_ethnicity\", \"derived_race\", \"derived_sex\", \"derived_dwelling_category\", 'action_taken', 'purchaser_type', 'preapproval',\n",
    "       'loan_type', 'loan_purpose', 'lien_status', 'reverse_mortgage',\n",
    "       'open_end_line_of_credit', 'business_or_commercial_purpose', 'hoepa_status', 'negative_amortization', 'interest_only_payment', 'balloon_payment',\n",
    "       'other_nonamortizing_features','construction_method',\n",
    "       'occupancy_type', 'manufactured_home_secured_property_type', 'manufactured_home_land_property_interest', 'applicant_credit_score_type', 'submission_of_application',\n",
    "       'initially_payable_to_institution', 'aus_1', 'denial_reason_1']\n",
    "\n",
    "for feature in toDummy:\n",
    "    dummies = pd.get_dummies(data[feature], drop_first=True, prefix=feature + \":\")\n",
    "    data = data.join(dummies)\n",
    "    data = data.drop(feature, axis=1)\n",
    "    data = pd.DataFrame(data)\n",
    "gc.collect()"
   ]
  },
  {
   "cell_type": "code",
   "execution_count": 21,
   "metadata": {},
   "outputs": [
    {
     "data": {
      "text/plain": [
       "['activity_year',\n",
       " 'lei',\n",
       " 'derived_msa_md',\n",
       " 'state_code',\n",
       " 'county_code',\n",
       " 'census_tract',\n",
       " 'loan_amount',\n",
       " 'combined_loan_to_value_ratio',\n",
       " 'interest_rate',\n",
       " 'rate_spread',\n",
       " 'total_loan_costs',\n",
       " 'origination_charges',\n",
       " 'discount_points',\n",
       " 'lender_credits',\n",
       " 'loan_term',\n",
       " 'property_value',\n",
       " 'total_units',\n",
       " 'income',\n",
       " 'debt_to_income_ratio',\n",
       " 'applicant_age',\n",
       " 'co_applicant_age',\n",
       " 'tract_population',\n",
       " 'tract_minority_population_percent',\n",
       " 'ffiec_msa_md_median_family_income',\n",
       " 'tract_to_msa_income_percentage',\n",
       " 'tract_owner_occupied_units',\n",
       " 'tract_one_to_four_family_homes',\n",
       " 'tract_median_age_of_housing_units',\n",
       " 'leifreq',\n",
       " 'na_age',\n",
       " 'derived_loan_product_type:_Conventional:Subordinate Lien',\n",
       " 'derived_loan_product_type:_FHA:First Lien',\n",
       " 'derived_loan_product_type:_FHA:Subordinate Lien',\n",
       " 'derived_loan_product_type:_FSA/RHS:First Lien',\n",
       " 'derived_loan_product_type:_FSA/RHS:Subordinate Lien',\n",
       " 'derived_loan_product_type:_VA:First Lien',\n",
       " 'derived_loan_product_type:_VA:Subordinate Lien',\n",
       " 'conforming_loan_limit:_NC',\n",
       " 'conforming_loan_limit:_U',\n",
       " 'derived_ethnicity:_Free Form Text Only',\n",
       " 'derived_ethnicity:_Hispanic or Latino',\n",
       " 'derived_ethnicity:_Joint',\n",
       " 'derived_ethnicity:_Not Hispanic or Latino',\n",
       " 'derived_race:_American Indian or Alaska Native',\n",
       " 'derived_race:_Asian',\n",
       " 'derived_race:_Black or African American',\n",
       " 'derived_race:_Free Form Text Only',\n",
       " 'derived_race:_Joint',\n",
       " 'derived_race:_Native Hawaiian or Other Pacific Islander',\n",
       " 'derived_race:_Race Not Available',\n",
       " 'derived_race:_White',\n",
       " 'derived_sex:_Joint',\n",
       " 'derived_sex:_Male',\n",
       " 'derived_sex:_Sex Not Available',\n",
       " 'derived_dwelling_category:_Multifamily:Site-Built',\n",
       " 'derived_dwelling_category:_Single Family (1-4 Units):Manufactured',\n",
       " 'derived_dwelling_category:_Single Family (1-4 Units):Site-Built',\n",
       " 'action_taken:_2',\n",
       " 'action_taken:_3',\n",
       " 'action_taken:_4',\n",
       " 'action_taken:_5',\n",
       " 'action_taken:_6',\n",
       " 'action_taken:_7',\n",
       " 'action_taken:_8',\n",
       " 'purchaser_type:_1',\n",
       " 'purchaser_type:_2',\n",
       " 'purchaser_type:_3',\n",
       " 'purchaser_type:_4',\n",
       " 'purchaser_type:_5',\n",
       " 'purchaser_type:_6',\n",
       " 'purchaser_type:_8',\n",
       " 'purchaser_type:_9',\n",
       " 'purchaser_type:_71',\n",
       " 'purchaser_type:_72',\n",
       " 'preapproval:_2',\n",
       " 'loan_type:_2',\n",
       " 'loan_type:_3',\n",
       " 'loan_type:_4',\n",
       " 'loan_purpose:_2',\n",
       " 'loan_purpose:_4',\n",
       " 'loan_purpose:_5',\n",
       " 'loan_purpose:_31',\n",
       " 'loan_purpose:_32',\n",
       " 'lien_status:_2',\n",
       " 'reverse_mortgage:_2',\n",
       " 'reverse_mortgage:_1111',\n",
       " 'open_end_line_of_credit:_2',\n",
       " 'open_end_line_of_credit:_1111',\n",
       " 'business_or_commercial_purpose:_2',\n",
       " 'business_or_commercial_purpose:_1111',\n",
       " 'hoepa_status:_2',\n",
       " 'hoepa_status:_3',\n",
       " 'negative_amortization:_2',\n",
       " 'negative_amortization:_1111',\n",
       " 'interest_only_payment:_2',\n",
       " 'interest_only_payment:_1111',\n",
       " 'balloon_payment:_2',\n",
       " 'balloon_payment:_1111',\n",
       " 'other_nonamortizing_features:_2',\n",
       " 'other_nonamortizing_features:_1111',\n",
       " 'construction_method:_2',\n",
       " 'occupancy_type:_2',\n",
       " 'occupancy_type:_3',\n",
       " 'manufactured_home_secured_property_type:_2',\n",
       " 'manufactured_home_secured_property_type:_3',\n",
       " 'manufactured_home_secured_property_type:_1111',\n",
       " 'manufactured_home_land_property_interest:_2',\n",
       " 'manufactured_home_land_property_interest:_3',\n",
       " 'manufactured_home_land_property_interest:_4',\n",
       " 'manufactured_home_land_property_interest:_5',\n",
       " 'manufactured_home_land_property_interest:_1111',\n",
       " 'applicant_credit_score_type:_2',\n",
       " 'applicant_credit_score_type:_3',\n",
       " 'applicant_credit_score_type:_4',\n",
       " 'applicant_credit_score_type:_5',\n",
       " 'applicant_credit_score_type:_6',\n",
       " 'applicant_credit_score_type:_7',\n",
       " 'applicant_credit_score_type:_8',\n",
       " 'applicant_credit_score_type:_9',\n",
       " 'applicant_credit_score_type:_1111',\n",
       " 'submission_of_application:_2',\n",
       " 'submission_of_application:_3',\n",
       " 'submission_of_application:_1111',\n",
       " 'initially_payable_to_institution:_2',\n",
       " 'initially_payable_to_institution:_3',\n",
       " 'initially_payable_to_institution:_1111',\n",
       " 'aus_1:_2',\n",
       " 'aus_1:_3',\n",
       " 'aus_1:_4',\n",
       " 'aus_1:_5',\n",
       " 'aus_1:_6',\n",
       " 'aus_1:_1111',\n",
       " 'denial_reason_1:_2',\n",
       " 'denial_reason_1:_3',\n",
       " 'denial_reason_1:_4',\n",
       " 'denial_reason_1:_5',\n",
       " 'denial_reason_1:_6',\n",
       " 'denial_reason_1:_7',\n",
       " 'denial_reason_1:_8',\n",
       " 'denial_reason_1:_9',\n",
       " 'denial_reason_1:_10',\n",
       " 'denial_reason_1:_1111']"
      ]
     },
     "execution_count": 21,
     "metadata": {},
     "output_type": "execute_result"
    }
   ],
   "source": [
    "[x for x in data.keys()]"
   ]
  },
  {
   "cell_type": "code",
   "execution_count": 22,
   "metadata": {},
   "outputs": [],
   "source": [
    "data.to_csv(\"data/preprocessed1.csv\")"
   ]
  },
  {
   "cell_type": "code",
   "execution_count": 81,
   "metadata": {},
   "outputs": [
    {
     "data": {
      "text/plain": [
       "state_code       57470\n",
       "county_code      90468\n",
       "census_tract    109016\n",
       "dtype: int64"
      ]
     },
     "execution_count": 81,
     "metadata": {},
     "output_type": "execute_result"
    }
   ],
   "source": [
    "data.isna().sum()[data.isna().sum() > 0]"
   ]
  },
  {
   "cell_type": "code",
   "execution_count": 78,
   "metadata": {},
   "outputs": [
    {
     "data": {
      "text/plain": [
       "array([nan, '366.16', '914.76', ..., 556.96, 487.14, 1392.48],\n",
       "      dtype=object)"
      ]
     },
     "execution_count": 78,
     "metadata": {},
     "output_type": "execute_result"
    }
   ],
   "source": [
    "data[\"discount_points\"].unique()"
   ]
  },
  {
   "cell_type": "code",
   "execution_count": 1,
   "metadata": {},
   "outputs": [
    {
     "ename": "NameError",
     "evalue": "name 'data' is not defined",
     "output_type": "error",
     "traceback": [
      "\u001b[0;31m---------------------------------------------------------------------------\u001b[0m",
      "\u001b[0;31mNameError\u001b[0m                                 Traceback (most recent call last)",
      "Cell \u001b[0;32mIn[1], line 1\u001b[0m\n\u001b[0;32m----> 1\u001b[0m \u001b[43mdata\u001b[49m\u001b[38;5;241m.\u001b[39mreplace(\u001b[38;5;124m\"\u001b[39m\u001b[38;5;124mnA\u001b[39m\u001b[38;5;124m\"\u001b[39m, np\u001b[38;5;241m.\u001b[39mnan)\n",
      "\u001b[0;31mNameError\u001b[0m: name 'data' is not defined"
     ]
    }
   ],
   "source": [
    "data.replace(\"nA\", np.nan)"
   ]
  },
  {
   "cell_type": "code",
   "execution_count": 73,
   "metadata": {},
   "outputs": [],
   "source": [
    "data[\"debt_to_income_ratio\"] = data[\"debt_to_income_ratio\"].replace(r\"<20%\", 15).replace(r\"20%-<30%\", 25).replace(r\"30%-<36%\", 33).replace(r\"50%-60%\", 55).replace(r\">60%\", 65).replace(\"Exempt\", np.nan).astype(\"float64\")"
   ]
  },
  {
   "cell_type": "code",
   "execution_count": 79,
   "metadata": {},
   "outputs": [],
   "source": [
    "naStuff = [\"combined_loan_to_value_ratio\", \"interest_rate\", \"rate_spread\", \"origination_charges\", \"loan_term\", \"property_value\", \"income\", \"debt_to_income_ratio\"]\n",
    "zeroStuff = [\"total_loan_costs\", \"discount_points\"]\n",
    "for feature in naStuff:\n",
    "    data[feature] = data[feature].replace(\"Exempt\", np.nan).astype(\"float64\")\n",
    "    data[feature] = data[feature].fillna(data[feature][~data[feature].isna()].mean())\n",
    "for feature in zeroStuff:\n",
    "    data[feature] = data[feature].replace(\"Exempt\", np.nan).astype(\"float64\")\n",
    "    data[feature] = data[feature].fillna(0)\n"
   ]
  },
  {
   "cell_type": "code",
   "execution_count": 82,
   "metadata": {},
   "outputs": [],
   "source": [
    "data.to_csv(\"data/preprocessed2.csv\")"
   ]
  },
  {
   "cell_type": "code",
   "execution_count": null,
   "metadata": {},
   "outputs": [
    {
     "ename": "ValueError",
     "evalue": "could not convert string to float: 'nA'",
     "output_type": "error",
     "traceback": [
      "\u001b[0;31m---------------------------------------------------------------------------\u001b[0m",
      "\u001b[0;31mValueError\u001b[0m                                Traceback (most recent call last)",
      "Cell \u001b[0;32mIn[97], line 1\u001b[0m\n\u001b[0;32m----> 1\u001b[0m numerics \u001b[38;5;241m=\u001b[39m \u001b[43mdata\u001b[49m\u001b[38;5;241;43m.\u001b[39;49m\u001b[43mdrop\u001b[49m\u001b[43m(\u001b[49m\u001b[43m[\u001b[49m\u001b[38;5;124;43m\"\u001b[39;49m\u001b[38;5;124;43mactivity_year\u001b[39;49m\u001b[38;5;124;43m\"\u001b[39;49m\u001b[43m,\u001b[49m\u001b[43m \u001b[49m\u001b[38;5;124;43m\"\u001b[39;49m\u001b[38;5;124;43mstate_code\u001b[39;49m\u001b[38;5;124;43m\"\u001b[39;49m\u001b[43m,\u001b[49m\u001b[43m \u001b[49m\u001b[38;5;124;43m\"\u001b[39;49m\u001b[38;5;124;43mcounty_code\u001b[39;49m\u001b[38;5;124;43m\"\u001b[39;49m\u001b[43m]\u001b[49m\u001b[43m,\u001b[49m\u001b[43m \u001b[49m\u001b[43maxis\u001b[49m\u001b[38;5;241;43m=\u001b[39;49m\u001b[38;5;241;43m1\u001b[39;49m\u001b[43m)\u001b[49m\u001b[38;5;241;43m.\u001b[39;49m\u001b[43mastype\u001b[49m\u001b[43m(\u001b[49m\u001b[38;5;124;43m\"\u001b[39;49m\u001b[38;5;124;43mfloat64\u001b[39;49m\u001b[38;5;124;43m\"\u001b[39;49m\u001b[43m)\u001b[49m\n",
      "File \u001b[0;32m~/miniconda3/envs/basemap/lib/python3.12/site-packages/pandas/core/generic.py:6643\u001b[0m, in \u001b[0;36mNDFrame.astype\u001b[0;34m(self, dtype, copy, errors)\u001b[0m\n\u001b[1;32m   6637\u001b[0m     results \u001b[38;5;241m=\u001b[39m [\n\u001b[1;32m   6638\u001b[0m         ser\u001b[38;5;241m.\u001b[39mastype(dtype, copy\u001b[38;5;241m=\u001b[39mcopy, errors\u001b[38;5;241m=\u001b[39merrors) \u001b[38;5;28;01mfor\u001b[39;00m _, ser \u001b[38;5;129;01min\u001b[39;00m \u001b[38;5;28mself\u001b[39m\u001b[38;5;241m.\u001b[39mitems()\n\u001b[1;32m   6639\u001b[0m     ]\n\u001b[1;32m   6641\u001b[0m \u001b[38;5;28;01melse\u001b[39;00m:\n\u001b[1;32m   6642\u001b[0m     \u001b[38;5;66;03m# else, only a single dtype is given\u001b[39;00m\n\u001b[0;32m-> 6643\u001b[0m     new_data \u001b[38;5;241m=\u001b[39m \u001b[38;5;28;43mself\u001b[39;49m\u001b[38;5;241;43m.\u001b[39;49m\u001b[43m_mgr\u001b[49m\u001b[38;5;241;43m.\u001b[39;49m\u001b[43mastype\u001b[49m\u001b[43m(\u001b[49m\u001b[43mdtype\u001b[49m\u001b[38;5;241;43m=\u001b[39;49m\u001b[43mdtype\u001b[49m\u001b[43m,\u001b[49m\u001b[43m \u001b[49m\u001b[43mcopy\u001b[49m\u001b[38;5;241;43m=\u001b[39;49m\u001b[43mcopy\u001b[49m\u001b[43m,\u001b[49m\u001b[43m \u001b[49m\u001b[43merrors\u001b[49m\u001b[38;5;241;43m=\u001b[39;49m\u001b[43merrors\u001b[49m\u001b[43m)\u001b[49m\n\u001b[1;32m   6644\u001b[0m     res \u001b[38;5;241m=\u001b[39m \u001b[38;5;28mself\u001b[39m\u001b[38;5;241m.\u001b[39m_constructor_from_mgr(new_data, axes\u001b[38;5;241m=\u001b[39mnew_data\u001b[38;5;241m.\u001b[39maxes)\n\u001b[1;32m   6645\u001b[0m     \u001b[38;5;28;01mreturn\u001b[39;00m res\u001b[38;5;241m.\u001b[39m__finalize__(\u001b[38;5;28mself\u001b[39m, method\u001b[38;5;241m=\u001b[39m\u001b[38;5;124m\"\u001b[39m\u001b[38;5;124mastype\u001b[39m\u001b[38;5;124m\"\u001b[39m)\n",
      "File \u001b[0;32m~/miniconda3/envs/basemap/lib/python3.12/site-packages/pandas/core/internals/managers.py:430\u001b[0m, in \u001b[0;36mBaseBlockManager.astype\u001b[0;34m(self, dtype, copy, errors)\u001b[0m\n\u001b[1;32m    427\u001b[0m \u001b[38;5;28;01melif\u001b[39;00m using_copy_on_write():\n\u001b[1;32m    428\u001b[0m     copy \u001b[38;5;241m=\u001b[39m \u001b[38;5;28;01mFalse\u001b[39;00m\n\u001b[0;32m--> 430\u001b[0m \u001b[38;5;28;01mreturn\u001b[39;00m \u001b[38;5;28;43mself\u001b[39;49m\u001b[38;5;241;43m.\u001b[39;49m\u001b[43mapply\u001b[49m\u001b[43m(\u001b[49m\n\u001b[1;32m    431\u001b[0m \u001b[43m    \u001b[49m\u001b[38;5;124;43m\"\u001b[39;49m\u001b[38;5;124;43mastype\u001b[39;49m\u001b[38;5;124;43m\"\u001b[39;49m\u001b[43m,\u001b[49m\n\u001b[1;32m    432\u001b[0m \u001b[43m    \u001b[49m\u001b[43mdtype\u001b[49m\u001b[38;5;241;43m=\u001b[39;49m\u001b[43mdtype\u001b[49m\u001b[43m,\u001b[49m\n\u001b[1;32m    433\u001b[0m \u001b[43m    \u001b[49m\u001b[43mcopy\u001b[49m\u001b[38;5;241;43m=\u001b[39;49m\u001b[43mcopy\u001b[49m\u001b[43m,\u001b[49m\n\u001b[1;32m    434\u001b[0m \u001b[43m    \u001b[49m\u001b[43merrors\u001b[49m\u001b[38;5;241;43m=\u001b[39;49m\u001b[43merrors\u001b[49m\u001b[43m,\u001b[49m\n\u001b[1;32m    435\u001b[0m \u001b[43m    \u001b[49m\u001b[43musing_cow\u001b[49m\u001b[38;5;241;43m=\u001b[39;49m\u001b[43musing_copy_on_write\u001b[49m\u001b[43m(\u001b[49m\u001b[43m)\u001b[49m\u001b[43m,\u001b[49m\n\u001b[1;32m    436\u001b[0m \u001b[43m\u001b[49m\u001b[43m)\u001b[49m\n",
      "File \u001b[0;32m~/miniconda3/envs/basemap/lib/python3.12/site-packages/pandas/core/internals/managers.py:363\u001b[0m, in \u001b[0;36mBaseBlockManager.apply\u001b[0;34m(self, f, align_keys, **kwargs)\u001b[0m\n\u001b[1;32m    361\u001b[0m         applied \u001b[38;5;241m=\u001b[39m b\u001b[38;5;241m.\u001b[39mapply(f, \u001b[38;5;241m*\u001b[39m\u001b[38;5;241m*\u001b[39mkwargs)\n\u001b[1;32m    362\u001b[0m     \u001b[38;5;28;01melse\u001b[39;00m:\n\u001b[0;32m--> 363\u001b[0m         applied \u001b[38;5;241m=\u001b[39m \u001b[38;5;28;43mgetattr\u001b[39;49m\u001b[43m(\u001b[49m\u001b[43mb\u001b[49m\u001b[43m,\u001b[49m\u001b[43m \u001b[49m\u001b[43mf\u001b[49m\u001b[43m)\u001b[49m\u001b[43m(\u001b[49m\u001b[38;5;241;43m*\u001b[39;49m\u001b[38;5;241;43m*\u001b[39;49m\u001b[43mkwargs\u001b[49m\u001b[43m)\u001b[49m\n\u001b[1;32m    364\u001b[0m     result_blocks \u001b[38;5;241m=\u001b[39m extend_blocks(applied, result_blocks)\n\u001b[1;32m    366\u001b[0m out \u001b[38;5;241m=\u001b[39m \u001b[38;5;28mtype\u001b[39m(\u001b[38;5;28mself\u001b[39m)\u001b[38;5;241m.\u001b[39mfrom_blocks(result_blocks, \u001b[38;5;28mself\u001b[39m\u001b[38;5;241m.\u001b[39maxes)\n",
      "File \u001b[0;32m~/miniconda3/envs/basemap/lib/python3.12/site-packages/pandas/core/internals/blocks.py:758\u001b[0m, in \u001b[0;36mBlock.astype\u001b[0;34m(self, dtype, copy, errors, using_cow, squeeze)\u001b[0m\n\u001b[1;32m    755\u001b[0m         \u001b[38;5;28;01mraise\u001b[39;00m \u001b[38;5;167;01mValueError\u001b[39;00m(\u001b[38;5;124m\"\u001b[39m\u001b[38;5;124mCan not squeeze with more than one column.\u001b[39m\u001b[38;5;124m\"\u001b[39m)\n\u001b[1;32m    756\u001b[0m     values \u001b[38;5;241m=\u001b[39m values[\u001b[38;5;241m0\u001b[39m, :]  \u001b[38;5;66;03m# type: ignore[call-overload]\u001b[39;00m\n\u001b[0;32m--> 758\u001b[0m new_values \u001b[38;5;241m=\u001b[39m \u001b[43mastype_array_safe\u001b[49m\u001b[43m(\u001b[49m\u001b[43mvalues\u001b[49m\u001b[43m,\u001b[49m\u001b[43m \u001b[49m\u001b[43mdtype\u001b[49m\u001b[43m,\u001b[49m\u001b[43m \u001b[49m\u001b[43mcopy\u001b[49m\u001b[38;5;241;43m=\u001b[39;49m\u001b[43mcopy\u001b[49m\u001b[43m,\u001b[49m\u001b[43m \u001b[49m\u001b[43merrors\u001b[49m\u001b[38;5;241;43m=\u001b[39;49m\u001b[43merrors\u001b[49m\u001b[43m)\u001b[49m\n\u001b[1;32m    760\u001b[0m new_values \u001b[38;5;241m=\u001b[39m maybe_coerce_values(new_values)\n\u001b[1;32m    762\u001b[0m refs \u001b[38;5;241m=\u001b[39m \u001b[38;5;28;01mNone\u001b[39;00m\n",
      "File \u001b[0;32m~/miniconda3/envs/basemap/lib/python3.12/site-packages/pandas/core/dtypes/astype.py:237\u001b[0m, in \u001b[0;36mastype_array_safe\u001b[0;34m(values, dtype, copy, errors)\u001b[0m\n\u001b[1;32m    234\u001b[0m     dtype \u001b[38;5;241m=\u001b[39m dtype\u001b[38;5;241m.\u001b[39mnumpy_dtype\n\u001b[1;32m    236\u001b[0m \u001b[38;5;28;01mtry\u001b[39;00m:\n\u001b[0;32m--> 237\u001b[0m     new_values \u001b[38;5;241m=\u001b[39m \u001b[43mastype_array\u001b[49m\u001b[43m(\u001b[49m\u001b[43mvalues\u001b[49m\u001b[43m,\u001b[49m\u001b[43m \u001b[49m\u001b[43mdtype\u001b[49m\u001b[43m,\u001b[49m\u001b[43m \u001b[49m\u001b[43mcopy\u001b[49m\u001b[38;5;241;43m=\u001b[39;49m\u001b[43mcopy\u001b[49m\u001b[43m)\u001b[49m\n\u001b[1;32m    238\u001b[0m \u001b[38;5;28;01mexcept\u001b[39;00m (\u001b[38;5;167;01mValueError\u001b[39;00m, \u001b[38;5;167;01mTypeError\u001b[39;00m):\n\u001b[1;32m    239\u001b[0m     \u001b[38;5;66;03m# e.g. _astype_nansafe can fail on object-dtype of strings\u001b[39;00m\n\u001b[1;32m    240\u001b[0m     \u001b[38;5;66;03m#  trying to convert to float\u001b[39;00m\n\u001b[1;32m    241\u001b[0m     \u001b[38;5;28;01mif\u001b[39;00m errors \u001b[38;5;241m==\u001b[39m \u001b[38;5;124m\"\u001b[39m\u001b[38;5;124mignore\u001b[39m\u001b[38;5;124m\"\u001b[39m:\n",
      "File \u001b[0;32m~/miniconda3/envs/basemap/lib/python3.12/site-packages/pandas/core/dtypes/astype.py:182\u001b[0m, in \u001b[0;36mastype_array\u001b[0;34m(values, dtype, copy)\u001b[0m\n\u001b[1;32m    179\u001b[0m     values \u001b[38;5;241m=\u001b[39m values\u001b[38;5;241m.\u001b[39mastype(dtype, copy\u001b[38;5;241m=\u001b[39mcopy)\n\u001b[1;32m    181\u001b[0m \u001b[38;5;28;01melse\u001b[39;00m:\n\u001b[0;32m--> 182\u001b[0m     values \u001b[38;5;241m=\u001b[39m \u001b[43m_astype_nansafe\u001b[49m\u001b[43m(\u001b[49m\u001b[43mvalues\u001b[49m\u001b[43m,\u001b[49m\u001b[43m \u001b[49m\u001b[43mdtype\u001b[49m\u001b[43m,\u001b[49m\u001b[43m \u001b[49m\u001b[43mcopy\u001b[49m\u001b[38;5;241;43m=\u001b[39;49m\u001b[43mcopy\u001b[49m\u001b[43m)\u001b[49m\n\u001b[1;32m    184\u001b[0m \u001b[38;5;66;03m# in pandas we don't store numpy str dtypes, so convert to object\u001b[39;00m\n\u001b[1;32m    185\u001b[0m \u001b[38;5;28;01mif\u001b[39;00m \u001b[38;5;28misinstance\u001b[39m(dtype, np\u001b[38;5;241m.\u001b[39mdtype) \u001b[38;5;129;01mand\u001b[39;00m \u001b[38;5;28missubclass\u001b[39m(values\u001b[38;5;241m.\u001b[39mdtype\u001b[38;5;241m.\u001b[39mtype, \u001b[38;5;28mstr\u001b[39m):\n",
      "File \u001b[0;32m~/miniconda3/envs/basemap/lib/python3.12/site-packages/pandas/core/dtypes/astype.py:133\u001b[0m, in \u001b[0;36m_astype_nansafe\u001b[0;34m(arr, dtype, copy, skipna)\u001b[0m\n\u001b[1;32m    129\u001b[0m     \u001b[38;5;28;01mraise\u001b[39;00m \u001b[38;5;167;01mValueError\u001b[39;00m(msg)\n\u001b[1;32m    131\u001b[0m \u001b[38;5;28;01mif\u001b[39;00m copy \u001b[38;5;129;01mor\u001b[39;00m arr\u001b[38;5;241m.\u001b[39mdtype \u001b[38;5;241m==\u001b[39m \u001b[38;5;28mobject\u001b[39m \u001b[38;5;129;01mor\u001b[39;00m dtype \u001b[38;5;241m==\u001b[39m \u001b[38;5;28mobject\u001b[39m:\n\u001b[1;32m    132\u001b[0m     \u001b[38;5;66;03m# Explicit copy, or required since NumPy can't view from / to object.\u001b[39;00m\n\u001b[0;32m--> 133\u001b[0m     \u001b[38;5;28;01mreturn\u001b[39;00m \u001b[43marr\u001b[49m\u001b[38;5;241;43m.\u001b[39;49m\u001b[43mastype\u001b[49m\u001b[43m(\u001b[49m\u001b[43mdtype\u001b[49m\u001b[43m,\u001b[49m\u001b[43m \u001b[49m\u001b[43mcopy\u001b[49m\u001b[38;5;241;43m=\u001b[39;49m\u001b[38;5;28;43;01mTrue\u001b[39;49;00m\u001b[43m)\u001b[49m\n\u001b[1;32m    135\u001b[0m \u001b[38;5;28;01mreturn\u001b[39;00m arr\u001b[38;5;241m.\u001b[39mastype(dtype, copy\u001b[38;5;241m=\u001b[39mcopy)\n",
      "\u001b[0;31mValueError\u001b[0m: could not convert string to float: 'nA'"
     ]
    },
    {
     "ename": "",
     "evalue": "",
     "output_type": "error",
     "traceback": [
      "\u001b[1;31mThe Kernel crashed while executing code in the current cell or a previous cell. \n",
      "\u001b[1;31mPlease review the code in the cell(s) to identify a possible cause of the failure. \n",
      "\u001b[1;31mClick <a href='https://aka.ms/vscodeJupyterKernelCrash'>here</a> for more info. \n",
      "\u001b[1;31mView Jupyter <a href='command:jupyter.viewOutput'>log</a> for further details."
     ]
    }
   ],
   "source": [
    "numerics = data.drop([\"activity_year\", \"state_code\", \"county_code\"], axis=1).astype(\"float64\")"
   ]
  },
  {
   "cell_type": "code",
   "execution_count": null,
   "metadata": {},
   "outputs": [
    {
     "data": {
      "text/plain": [
       "lei                               int64\n",
       "derived_msa_md                    int64\n",
       "census_tract                     object\n",
       "loan_amount                       int64\n",
       "combined_loan_to_value_ratio    float64\n",
       "                                 ...   \n",
       "denial_reason_1:_7                 bool\n",
       "denial_reason_1:_8                 bool\n",
       "denial_reason_1:_9                 bool\n",
       "denial_reason_1:_10                bool\n",
       "denial_reason_1:_1111              bool\n",
       "Length: 139, dtype: object"
      ]
     },
     "execution_count": 96,
     "metadata": {},
     "output_type": "execute_result"
    }
   ],
   "source": [
    "numerics"
   ]
  },
  {
   "cell_type": "code",
   "execution_count": null,
   "metadata": {},
   "outputs": [],
   "source": []
  }
 ],
 "metadata": {
  "kernelspec": {
   "display_name": "basemap",
   "language": "python",
   "name": "python3"
  },
  "language_info": {
   "codemirror_mode": {
    "name": "ipython",
    "version": 3
   },
   "file_extension": ".py",
   "mimetype": "text/x-python",
   "name": "python",
   "nbconvert_exporter": "python",
   "pygments_lexer": "ipython3",
   "version": "3.12.2"
  }
 },
 "nbformat": 4,
 "nbformat_minor": 2
}
